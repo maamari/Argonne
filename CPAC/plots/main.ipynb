{
 "cells": [
  {
   "cell_type": "markdown",
   "metadata": {},
   "source": [
    "# Python Plots for LGalaxies"
   ]
  },
  {
   "cell_type": "markdown",
   "metadata": {},
   "source": [
    "## Import Libraries and Read Catalogs"
   ]
  },
  {
   "cell_type": "markdown",
   "metadata": {},
   "source": [
    "<p>Use functions read_snap or read_tree to read catalogs. These are both defined in procedures.py. In case of read_snap, SnapshotList will be returned containing the list of snapshots read (usefull to later select galaxies in a given redshift).<p>"
   ]
  },
  {
   "cell_type": "code",
   "execution_count": 28,
   "metadata": {},
   "outputs": [
    {
     "name": "stdout",
     "output_type": "stream",
     "text": [
      "Populating the interactive namespace from numpy and matplotlib\n",
      "\n",
      "\n",
      "Reading Headers\n",
      "\n",
      "z= 0.00  nGals =  [671]\n",
      "\n",
      "\n",
      "\n",
      "Reading redshift:  0.0 \n",
      "\n",
      "File  0  nGals =  458\n",
      "reading done\n",
      "\n"
     ]
    }
   ],
   "source": [
    "#need numpy, matplotlib, astropy, scipy\n",
    "\n",
    "import numpy as np\n",
    "%matplotlib inline\n",
    "\n",
    "#import pandas as pd\n",
    "\n",
    "%pylab inline\n",
    "#import seaborn as sns\n",
    "#sns.set_style('darkgrid')\n",
    "\n",
    "import matplotlib.pyplot as plt\n",
    "import matplotlib.gridspec as gridspec\n",
    "from astropy.table import Table\n",
    "from importlib import reload\n",
    "from matplotlib.ticker import MultipleLocator, FormatStrFormatter\n",
    "from matplotlib.backends.backend_pdf import PdfPages\n",
    "from matplotlib.colors import LogNorm\n",
    "from decimal import *\n",
    "import sys\n",
    "from scipy.ndimage import zoom \n",
    "\n",
    "import procedures\n",
    "reload (procedures)\n",
    "from procedures import *\n",
    "import plots_input\n",
    "reload (plots_input)\n",
    "from plots_input import *\n",
    "\n",
    "FirstFile = 0\n",
    "LastFile =  0\n",
    "\n",
    "Volume_MR = (BoxSize_MR**3.0) * (LastFile - FirstFile + 1) / MaxTreeFiles \n",
    "#Volume_MRII = (BoxSize_MRII**3.0) * (LastFile - FirstFile + 1) / MaxTreeFiles \n",
    "\n",
    "if CatalogType=='snap':\n",
    "    from LGalaxies_Henriques2015a_struct import LGalaxiesStruct\n",
    "    from LGalaxies_Henriques2015a_struct import PropertiesToRead\n",
    "    #from LGalaxies_Henriques2015a_Rings_struct import LGalaxiesStruct\n",
    "    #from LGalaxies_Henriques2015a_Rings_struct import PropertiesToRead\n",
    "    (G_MR, SnapshotList) = read_snap(DirName_MR,FirstFile,LastFile,\n",
    "                     PropertiesToRead,LGalaxiesStruct,RedshiftsToRead,FullRedshiftList)\n",
    "    \n",
    "if CatalogType=='tree':    \n",
    "    from LGalaxies_tree_Henriques2015a_struct import LGalaxiesStruct\n",
    "    from LGalaxies_tree_Henriques2015a_struct import PropertiesToRead_tree    \n",
    "    (G_MR) = read_tree(DirName_MR,FirstFile,LastFile,\n",
    "                     PropertiesToRead_tree,LGalaxiesStruct)    \n",
    "     \n",
    "    SnapshotList = np.zeros(len(RedshiftList),dtype=np.int32)\n",
    "    for ii in range(0,len(RedshiftList)):                  \n",
    "        G0=G_MR[ np.rint(G_MR['Redshift']*100.) == RedshiftList[ii]*100. ]             \n",
    "        SnapshotList[ii]=G0['SnapNum'][0]\n",
    "#endif      \n",
    "\n",
    "print('reading done\\n')\n",
    "#print (np.log10(G_MR['DiskMass'][0:99]*1.e10))\n",
    "#print (np.log10(G_MR['BulgeMass'][0:99]*1.e10))\n",
    "#print (np.log10(G_MR['Mvir'][0:99]*1.e10))\n",
    "#print (G_MR['SnapNum'][0:99])\n",
    "\n",
    "#print (np.log10(G_MR['MetalsStellarMass'][0:99]*1.e10))\n",
    "#print (G_MR[0:5])\n",
    "#help(G_MR)\n",
    "\n",
    "\n",
    "plt.rcParams.update({'font.size': 18, 'xtick.labelsize': 18, 'ytick.labelsize': 18, 'axes.linewidth': 2, \n",
    "                     'xtick.major.size': 6, 'xtick.major.width': 1.5, \n",
    "                     'ytick.major.size': 6, 'ytick.major.width': 1.5, \n",
    "                     'xtick.minor.size': 3, 'xtick.minor.width': 1.,                   \n",
    "                     'ytick.minor.size': 3, 'ytick.minor.width': 1.})"
   ]
  },
  {
   "cell_type": "markdown",
   "metadata": {},
   "source": [
    "## Plots"
   ]
  },
  {
   "cell_type": "code",
   "execution_count": 29,
   "metadata": {},
   "outputs": [
    {
     "data": {
      "text/plain": [
       "<module 'plots_input' from '/home/kmaamari/lgalaxies/lgal/AuxCode/Python/plots_input.py'>"
      ]
     },
     "execution_count": 29,
     "metadata": {},
     "output_type": "execute_result"
    }
   ],
   "source": [
    "import plots\n",
    "reload (plots)\n",
    "\n",
    "import plots_input\n",
    "reload(plots_input)"
   ]
  },
  {
   "cell_type": "code",
   "execution_count": 32,
   "metadata": {
    "scrolled": false
   },
   "outputs": [
    {
     "name": "stdout",
     "output_type": "stream",
     "text": [
      "Doing SMF\n"
     ]
    },
    {
     "ename": "FileNotFoundError",
     "evalue": "[Errno 2] No such file or directory: '/Users/BrunoHenriques/Desktop/OneDrive/Workspace/GitHub_PR_Hen15/MCMC//ObsConstraints/StellarMassFunction_z0.00.txt'",
     "output_type": "error",
     "traceback": [
      "\u001b[0;31m---------------------------------------------------------------------\u001b[0m",
      "\u001b[0;31mFileNotFoundError\u001b[0m                   Traceback (most recent call last)",
      "\u001b[0;32m<ipython-input-32-e9380c60ee63>\u001b[0m in \u001b[0;36m<module>\u001b[0;34m\u001b[0m\n\u001b[1;32m     19\u001b[0m         \u001b[0;32mfrom\u001b[0m \u001b[0mplots\u001b[0m \u001b[0;32mimport\u001b[0m \u001b[0mstellar_mass_function\u001b[0m\u001b[0;34m\u001b[0m\u001b[0;34m\u001b[0m\u001b[0m\n\u001b[1;32m     20\u001b[0m         \u001b[0mThisRedshiftList\u001b[0m\u001b[0;34m=\u001b[0m\u001b[0;34m[\u001b[0m\u001b[0;36m0.0\u001b[0m\u001b[0;34m]\u001b[0m\u001b[0;34m\u001b[0m\u001b[0;34m\u001b[0m\u001b[0m\n\u001b[0;32m---> 21\u001b[0;31m         \u001b[0mstellar_mass_function\u001b[0m\u001b[0;34m(\u001b[0m\u001b[0mG_MR\u001b[0m\u001b[0;34m,\u001b[0m \u001b[0mVolume_MR\u001b[0m\u001b[0;34m,\u001b[0m \u001b[0mThisRedshiftList\u001b[0m\u001b[0;34m,\u001b[0m \u001b[0mpdf\u001b[0m\u001b[0;34m)\u001b[0m\u001b[0;34m\u001b[0m\u001b[0;34m\u001b[0m\u001b[0m\n\u001b[0m\u001b[1;32m     22\u001b[0m \u001b[0;34m\u001b[0m\u001b[0m\n\u001b[1;32m     23\u001b[0m     \u001b[0;32mif\u001b[0m \u001b[0mopt_metals_vs_stellarmass\u001b[0m\u001b[0;34m==\u001b[0m\u001b[0;36m1\u001b[0m\u001b[0;34m:\u001b[0m\u001b[0;34m\u001b[0m\u001b[0;34m\u001b[0m\u001b[0m\n",
      "\u001b[0;32m~/lgalaxies/lgal/AuxCode/Python/plots.py\u001b[0m in \u001b[0;36mstellar_mass_function\u001b[0;34m(G_MR, Volume_MR, ThisRedshiftList, pdf)\u001b[0m\n\u001b[1;32m    109\u001b[0m         \u001b[0;31m#OBSERVATIONS\u001b[0m\u001b[0;34m\u001b[0m\u001b[0;34m\u001b[0m\u001b[0;34m\u001b[0m\u001b[0m\n\u001b[1;32m    110\u001b[0m         \u001b[0mfile\u001b[0m \u001b[0;34m=\u001b[0m \u001b[0mMCMCdir\u001b[0m \u001b[0;34m+\u001b[0m \u001b[0;34m'/ObsConstraints/StellarMassFunction_z'\u001b[0m\u001b[0;34m+\u001b[0m\u001b[0mchar_redshift\u001b[0m\u001b[0;34m+\u001b[0m\u001b[0;34m'.txt'\u001b[0m\u001b[0;34m\u001b[0m\u001b[0;34m\u001b[0m\u001b[0m\n\u001b[0;32m--> 111\u001b[0;31m         \u001b[0mf\u001b[0m \u001b[0;34m=\u001b[0m \u001b[0mopen\u001b[0m\u001b[0;34m(\u001b[0m\u001b[0mfile\u001b[0m\u001b[0;34m,\u001b[0m \u001b[0;34m'r'\u001b[0m\u001b[0;34m)\u001b[0m\u001b[0;34m\u001b[0m\u001b[0;34m\u001b[0m\u001b[0m\n\u001b[0m\u001b[1;32m    112\u001b[0m         \u001b[0mline\u001b[0m \u001b[0;34m=\u001b[0m \u001b[0mint\u001b[0m\u001b[0;34m(\u001b[0m\u001b[0mf\u001b[0m\u001b[0;34m.\u001b[0m\u001b[0mreadline\u001b[0m\u001b[0;34m(\u001b[0m\u001b[0;34m)\u001b[0m\u001b[0;34m)\u001b[0m\u001b[0;34m\u001b[0m\u001b[0;34m\u001b[0m\u001b[0m\n\u001b[1;32m    113\u001b[0m         \u001b[0mobs\u001b[0m \u001b[0;34m=\u001b[0m \u001b[0mTable\u001b[0m\u001b[0;34m.\u001b[0m\u001b[0mread\u001b[0m\u001b[0;34m(\u001b[0m\u001b[0mfile\u001b[0m\u001b[0;34m,\u001b[0m \u001b[0mformat\u001b[0m\u001b[0;34m=\u001b[0m\u001b[0;34m'ascii'\u001b[0m\u001b[0;34m,\u001b[0m \u001b[0mdata_start\u001b[0m\u001b[0;34m=\u001b[0m\u001b[0;36m1\u001b[0m\u001b[0;34m,\u001b[0m \u001b[0mdata_end\u001b[0m\u001b[0;34m=\u001b[0m\u001b[0mline\u001b[0m\u001b[0;34m+\u001b[0m\u001b[0;36m1\u001b[0m\u001b[0;34m)\u001b[0m\u001b[0;34m\u001b[0m\u001b[0;34m\u001b[0m\u001b[0m\n",
      "\u001b[0;31mFileNotFoundError\u001b[0m: [Errno 2] No such file or directory: '/Users/BrunoHenriques/Desktop/OneDrive/Workspace/GitHub_PR_Hen15/MCMC//ObsConstraints/StellarMassFunction_z0.00.txt'"
     ]
    },
    {
     "data": {
      "image/png": "[encoded data removed]",
      "text/plain": [
       "<Figure size 576x504 with 1 Axes>"
      ]
     },
     "metadata": {
      "needs_background": "light"
     },
     "output_type": "display_data"
    }
   ],
   "source": [
    "\n",
    "with PdfPages('./fig/plots.pdf') as pdf:  \n",
    "    import procedures\n",
    "    reload (procedures)\n",
    "    from procedures import *\n",
    "    import plots_input\n",
    "    reload (plots_input)\n",
    "    from plots_input import *\n",
    "    import plots\n",
    "    reload (plots)\n",
    "\n",
    "    if opt_stellar_mass_vs_halo_mass==1:\n",
    "        print('Doing SMHM')\n",
    "        from plots import stellar_mass_vs_halo_mass\n",
    "        ThisRedshiftList=[0.0]        \n",
    "        stellar_mass_vs_halo_mass(G_MR, ThisRedshiftList, pdf)\n",
    "    \n",
    "    if opt_stellar_mass_function==1:\n",
    "        print('Doing SMF')\n",
    "        from plots import stellar_mass_function\n",
    "        ThisRedshiftList=[0.0]        \n",
    "        stellar_mass_function(G_MR, Volume_MR, ThisRedshiftList, pdf)\n",
    "    \n",
    "    if opt_metals_vs_stellarmass==1:\n",
    "        print('Doing metals_vs_stellarmass')\n",
    "        from plots import metals_vs_stellarmass\n",
    "        ThisRedshiftList=[0.1,3.]\n",
    "        metals_vs_stellarmass(G_MR, ThisRedshiftList, pdf)\n",
    "        \n",
    "    if opt_BHBM==1:\n",
    "        print('Doing BHBM')\n",
    "        from plots import BHBM\n",
    "        ThisRedshiftList=[0.0]        \n",
    "        BHBM(G_MR, ThisRedshiftList, pdf)    \n",
    "        \n",
    "    if opt_SFRF==1:\n",
    "        print('Doing SFRF')\n",
    "        from plots import SFRF\n",
    "        ThisRedshiftList=[0.0]        \n",
    "        SFRF(G_MR, Volume_MR, ThisRedshiftList, pdf)\n",
    "        \n",
    "    if opt_gas_fraction==1:\n",
    "        print('Doing gas_fraction')\n",
    "        from plots import gas_fraction\n",
    "        ThisRedshiftList=[0.0]        \n",
    "        gas_fraction(G_MR, ThisRedshiftList, pdf)\n",
    "        \n",
    "    if opt_HI_MF==1:\n",
    "        print('Doing HI_MF')\n",
    "        from plots import HI_MF\n",
    "        ThisRedshiftList=[0.0]        \n",
    "        HI_MF(G_MR, Volume_MR, ThisRedshiftList, pdf)\n",
    "        \n",
    "    if opt_sfr_vs_stellar_mass==1:\n",
    "        print('Doing sfr_vs_stellar_mass')\n",
    "        from plots import sfr_vs_stellar_mass\n",
    "        ThisRedshiftList=[0.0,0.4,1.0,2.0,3.0]        \n",
    "        sfr_vs_stellar_mass(G_MR, ThisRedshiftList, pdf)\n",
    "        \n",
    "    if opt_ur_vs_r==1:\n",
    "        print('Doing ur_vs_r')\n",
    "        from plots import ur_vs_r\n",
    "        ThisRedshiftList=[0.0]        \n",
    "        ur_vs_r(G_MR, ThisRedshiftList, pdf)\n",
    "        \n",
    "    if opt_UVJ_colour==1:\n",
    "        print('Doing UVJ_colour')\n",
    "        from plots import UVJ_colour\n",
    "        ThisRedshiftList=[0.4,1.0,2.0,3.0]        \n",
    "        UVJ_colour(G_MR, ThisRedshiftList, pdf)\n",
    "        \n",
    "    if opt_redfraction_color_cut==1:\n",
    "        print('Doing redfraction_color_cut')\n",
    "        from plots import redfraction_color_cut\n",
    "        ThisRedshiftList=[0.0,0.4,1.0,2.0,3.0]        \n",
    "        redfraction_color_cut(G_MR, ThisRedshiftList, pdf)\n",
    "               \n",
    "    print('')\n",
    "    print('All plots done')\n",
    "        \n",
    "#end with PdfPages('./fig/plots.pdf') as pdf: "
   ]
  },
  {
   "cell_type": "code",
   "execution_count": null,
   "metadata": {},
   "outputs": [],
   "source": []
  },
  {
   "cell_type": "code",
   "execution_count": null,
   "metadata": {},
   "outputs": [],
   "source": []
  }
 ],
 "metadata": {
  "kernelspec": {
   "display_name": "Python 3",
   "language": "python",
   "name": "python3"
  },
  "language_info": {
   "codemirror_mode": {
    "name": "ipython",
    "version": 3
   },
   "file_extension": ".py",
   "mimetype": "text/x-python",
   "name": "python",
   "nbconvert_exporter": "python",
   "pygments_lexer": "ipython3",
   "version": "3.7.3"
  }
 },
 "nbformat": 4,
 "nbformat_minor": 1
}
