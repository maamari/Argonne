{
 "cells": [
  {
   "cell_type": "code",
   "execution_count": 9,
   "metadata": {},
   "outputs": [],
   "source": [
    "import numpy as np\n",
    "import matplotlib.pyplot as plt\n",
    "import matplotlib.colors\n",
    "from tqdm import tqdm #progress bar\n",
    "import os #mkdir\n",
    "import sys  \n",
    "\n",
    "# script_dir = \"/home/kmaamari/lgalaxies/h5generation/coretracing/genericio/python\"\n",
    "# sys.path.append(os.path.abspath(script_dir))\n",
    "import genericio"
   ]
  },
  {
   "cell_type": "code",
   "execution_count": 10,
   "metadata": {},
   "outputs": [],
   "source": [
    "# Latex for plt\n",
    "from matplotlib import rc\n",
    "rc('font', **{'family': 'serif', 'serif': ['Computer Modern']})\n",
    "rc('text', usetex=True)\n",
    "\n",
    "# default figure size\n",
    "matplotlib.rcParams['figure.dpi'] = 120"
   ]
  },
  {
   "cell_type": "code",
   "execution_count": 11,
   "metadata": {},
   "outputs": [],
   "source": [
    "# get core file headers for all time steps\n",
    "data_dir = '/home/isultan/data/AlphaQ/core_catalog5/'\n",
    "headers_fname = '/home/isultan/projects/coretracing/cc5headers.txt'\n",
    "timesteps = []\n",
    "fnames = []\n",
    "for fname in open(headers_fname, 'r'):\n",
    "    fnames.append(data_dir + fname.strip())\n",
    "    timesteps.append(int(fname.strip().split('.')[2]))"
   ]
  },
  {
   "cell_type": "code",
   "execution_count": 12,
   "metadata": {},
   "outputs": [],
   "source": [
    "# identify unique halos in last time step\n",
    "allID_halo = np.unique(genericio.gio_read(data_dir + '07_13_17.AlphaQ.499.coreproperties', 'fof_halo_tag')[0])"
   ]
  },
  {
   "cell_type": "code",
   "execution_count": 6,
   "metadata": {},
   "outputs": [
    {
     "name": "stderr",
     "output_type": "stream",
     "text": [
      "  7%|▋         | 7/101 [00:00<00:01, 65.32it/s]"
     ]
    },
    {
     "name": "stdout",
     "output_type": "stream",
     "text": [
      "/home/isultan/data/AlphaQ/core_catalog5/07_13_17.AlphaQ.42.coreproperties\n",
      "/home/isultan/data/AlphaQ/core_catalog5/07_13_17.AlphaQ.43.coreproperties\n",
      "/home/isultan/data/AlphaQ/core_catalog5/07_13_17.AlphaQ.44.coreproperties\n",
      "/home/isultan/data/AlphaQ/core_catalog5/07_13_17.AlphaQ.45.coreproperties\n",
      "/home/isultan/data/AlphaQ/core_catalog5/07_13_17.AlphaQ.46.coreproperties\n",
      "/home/isultan/data/AlphaQ/core_catalog5/07_13_17.AlphaQ.48.coreproperties\n",
      "/home/isultan/data/AlphaQ/core_catalog5/07_13_17.AlphaQ.49.coreproperties\n",
      "/home/isultan/data/AlphaQ/core_catalog5/07_13_17.AlphaQ.50.coreproperties\n",
      "/home/isultan/data/AlphaQ/core_catalog5/07_13_17.AlphaQ.52.coreproperties\n",
      "/home/isultan/data/AlphaQ/core_catalog5/07_13_17.AlphaQ.53.coreproperties\n",
      "/home/isultan/data/AlphaQ/core_catalog5/07_13_17.AlphaQ.54.coreproperties\n",
      "/home/isultan/data/AlphaQ/core_catalog5/07_13_17.AlphaQ.56.coreproperties\n",
      "/home/isultan/data/AlphaQ/core_catalog5/07_13_17.AlphaQ.57.coreproperties\n",
      "/home/isultan/data/AlphaQ/core_catalog5/07_13_17.AlphaQ.59.coreproperties\n"
     ]
    },
    {
     "name": "stderr",
     "output_type": "stream",
     "text": [
      " 20%|█▉        | 20/101 [00:00<00:01, 63.55it/s]"
     ]
    },
    {
     "name": "stdout",
     "output_type": "stream",
     "text": [
      "/home/isultan/data/AlphaQ/core_catalog5/07_13_17.AlphaQ.60.coreproperties\n",
      "/home/isultan/data/AlphaQ/core_catalog5/07_13_17.AlphaQ.62.coreproperties\n",
      "/home/isultan/data/AlphaQ/core_catalog5/07_13_17.AlphaQ.63.coreproperties\n",
      "/home/isultan/data/AlphaQ/core_catalog5/07_13_17.AlphaQ.65.coreproperties\n",
      "/home/isultan/data/AlphaQ/core_catalog5/07_13_17.AlphaQ.67.coreproperties\n",
      "/home/isultan/data/AlphaQ/core_catalog5/07_13_17.AlphaQ.68.coreproperties\n",
      "/home/isultan/data/AlphaQ/core_catalog5/07_13_17.AlphaQ.70.coreproperties\n",
      "/home/isultan/data/AlphaQ/core_catalog5/07_13_17.AlphaQ.72.coreproperties\n",
      "/home/isultan/data/AlphaQ/core_catalog5/07_13_17.AlphaQ.74.coreproperties\n",
      "/home/isultan/data/AlphaQ/core_catalog5/07_13_17.AlphaQ.76.coreproperties\n",
      "/home/isultan/data/AlphaQ/core_catalog5/07_13_17.AlphaQ.77.coreproperties\n",
      "/home/isultan/data/AlphaQ/core_catalog5/07_13_17.AlphaQ.79.coreproperties\n",
      "/home/isultan/data/AlphaQ/core_catalog5/07_13_17.AlphaQ.81.coreproperties\n"
     ]
    },
    {
     "name": "stderr",
     "output_type": "stream",
     "text": [
      " 33%|███▎      | 33/101 [00:00<00:01, 61.52it/s]"
     ]
    },
    {
     "name": "stdout",
     "output_type": "stream",
     "text": [
      "/home/isultan/data/AlphaQ/core_catalog5/07_13_17.AlphaQ.84.coreproperties\n",
      "/home/isultan/data/AlphaQ/core_catalog5/07_13_17.AlphaQ.86.coreproperties\n",
      "/home/isultan/data/AlphaQ/core_catalog5/07_13_17.AlphaQ.88.coreproperties\n",
      "/home/isultan/data/AlphaQ/core_catalog5/07_13_17.AlphaQ.90.coreproperties\n",
      "/home/isultan/data/AlphaQ/core_catalog5/07_13_17.AlphaQ.92.coreproperties\n",
      "/home/isultan/data/AlphaQ/core_catalog5/07_13_17.AlphaQ.95.coreproperties\n",
      "/home/isultan/data/AlphaQ/core_catalog5/07_13_17.AlphaQ.97.coreproperties\n",
      "/home/isultan/data/AlphaQ/core_catalog5/07_13_17.AlphaQ.100.coreproperties\n",
      "/home/isultan/data/AlphaQ/core_catalog5/07_13_17.AlphaQ.102.coreproperties\n",
      "/home/isultan/data/AlphaQ/core_catalog5/07_13_17.AlphaQ.105.coreproperties\n",
      "/home/isultan/data/AlphaQ/core_catalog5/07_13_17.AlphaQ.107.coreproperties\n"
     ]
    },
    {
     "name": "stderr",
     "output_type": "stream",
     "text": [
      " 44%|████▎     | 44/101 [00:00<00:01, 48.65it/s]"
     ]
    },
    {
     "name": "stdout",
     "output_type": "stream",
     "text": [
      "/home/isultan/data/AlphaQ/core_catalog5/07_13_17.AlphaQ.110.coreproperties\n",
      "/home/isultan/data/AlphaQ/core_catalog5/07_13_17.AlphaQ.113.coreproperties\n",
      "/home/isultan/data/AlphaQ/core_catalog5/07_13_17.AlphaQ.116.coreproperties\n",
      "/home/isultan/data/AlphaQ/core_catalog5/07_13_17.AlphaQ.119.coreproperties\n",
      "/home/isultan/data/AlphaQ/core_catalog5/07_13_17.AlphaQ.121.coreproperties\n",
      "/home/isultan/data/AlphaQ/core_catalog5/07_13_17.AlphaQ.124.coreproperties\n",
      "/home/isultan/data/AlphaQ/core_catalog5/07_13_17.AlphaQ.127.coreproperties\n",
      "/home/isultan/data/AlphaQ/core_catalog5/07_13_17.AlphaQ.131.coreproperties\n"
     ]
    },
    {
     "name": "stderr",
     "output_type": "stream",
     "text": [
      "\r",
      " 49%|████▊     | 49/101 [00:00<00:01, 39.62it/s]"
     ]
    },
    {
     "name": "stdout",
     "output_type": "stream",
     "text": [
      "/home/isultan/data/AlphaQ/core_catalog5/07_13_17.AlphaQ.134.coreproperties\n",
      "/home/isultan/data/AlphaQ/core_catalog5/07_13_17.AlphaQ.137.coreproperties\n",
      "/home/isultan/data/AlphaQ/core_catalog5/07_13_17.AlphaQ.141.coreproperties\n",
      "/home/isultan/data/AlphaQ/core_catalog5/07_13_17.AlphaQ.144.coreproperties\n",
      "/home/isultan/data/AlphaQ/core_catalog5/07_13_17.AlphaQ.148.coreproperties\n",
      "/home/isultan/data/AlphaQ/core_catalog5/07_13_17.AlphaQ.151.coreproperties\n"
     ]
    },
    {
     "name": "stderr",
     "output_type": "stream",
     "text": [
      "\r",
      " 53%|█████▎    | 54/101 [00:01<00:01, 31.22it/s]"
     ]
    },
    {
     "name": "stdout",
     "output_type": "stream",
     "text": [
      "/home/isultan/data/AlphaQ/core_catalog5/07_13_17.AlphaQ.155.coreproperties\n",
      "/home/isultan/data/AlphaQ/core_catalog5/07_13_17.AlphaQ.159.coreproperties\n",
      "/home/isultan/data/AlphaQ/core_catalog5/07_13_17.AlphaQ.163.coreproperties\n",
      "/home/isultan/data/AlphaQ/core_catalog5/07_13_17.AlphaQ.167.coreproperties\n"
     ]
    },
    {
     "name": "stderr",
     "output_type": "stream",
     "text": [
      "\r",
      " 57%|█████▋    | 58/101 [00:01<00:01, 24.30it/s]"
     ]
    },
    {
     "name": "stdout",
     "output_type": "stream",
     "text": [
      "/home/isultan/data/AlphaQ/core_catalog5/07_13_17.AlphaQ.171.coreproperties\n",
      "/home/isultan/data/AlphaQ/core_catalog5/07_13_17.AlphaQ.176.coreproperties\n",
      "/home/isultan/data/AlphaQ/core_catalog5/07_13_17.AlphaQ.180.coreproperties\n"
     ]
    },
    {
     "name": "stderr",
     "output_type": "stream",
     "text": [
      "\r",
      " 60%|██████    | 61/101 [00:01<00:02, 19.52it/s]"
     ]
    },
    {
     "name": "stdout",
     "output_type": "stream",
     "text": [
      "/home/isultan/data/AlphaQ/core_catalog5/07_13_17.AlphaQ.184.coreproperties\n",
      "/home/isultan/data/AlphaQ/core_catalog5/07_13_17.AlphaQ.189.coreproperties\n",
      "/home/isultan/data/AlphaQ/core_catalog5/07_13_17.AlphaQ.194.coreproperties\n"
     ]
    },
    {
     "name": "stderr",
     "output_type": "stream",
     "text": [
      "\r",
      " 63%|██████▎   | 64/101 [00:01<00:02, 16.10it/s]"
     ]
    },
    {
     "name": "stdout",
     "output_type": "stream",
     "text": [
      "/home/isultan/data/AlphaQ/core_catalog5/07_13_17.AlphaQ.198.coreproperties\n",
      "/home/isultan/data/AlphaQ/core_catalog5/07_13_17.AlphaQ.203.coreproperties\n",
      "/home/isultan/data/AlphaQ/core_catalog5/07_13_17.AlphaQ.208.coreproperties\n",
      "/home/isultan/data/AlphaQ/core_catalog5/07_13_17.AlphaQ.213.coreproperties\n",
      "/home/isultan/data/AlphaQ/core_catalog5/07_13_17.AlphaQ.219.coreproperties\n"
     ]
    },
    {
     "name": "stderr",
     "output_type": "stream",
     "text": [
      "\r",
      " 66%|██████▋   | 67/101 [00:02<00:02, 13.61it/s]"
     ]
    },
    {
     "name": "stdout",
     "output_type": "stream",
     "text": [
      "/home/isultan/data/AlphaQ/core_catalog5/07_13_17.AlphaQ.224.coreproperties\n",
      "/home/isultan/data/AlphaQ/core_catalog5/07_13_17.AlphaQ.230.coreproperties\n"
     ]
    },
    {
     "name": "stderr",
     "output_type": "stream",
     "text": [
      "\r",
      " 68%|██████▊   | 69/101 [00:02<00:02, 11.83it/s]"
     ]
    },
    {
     "name": "stdout",
     "output_type": "stream",
     "text": [
      "/home/isultan/data/AlphaQ/core_catalog5/07_13_17.AlphaQ.235.coreproperties\n",
      "/home/isultan/data/AlphaQ/core_catalog5/07_13_17.AlphaQ.241.coreproperties\n"
     ]
    },
    {
     "name": "stderr",
     "output_type": "stream",
     "text": [
      "\r",
      " 70%|███████   | 71/101 [00:02<00:02, 10.11it/s]"
     ]
    },
    {
     "name": "stdout",
     "output_type": "stream",
     "text": [
      "/home/isultan/data/AlphaQ/core_catalog5/07_13_17.AlphaQ.247.coreproperties\n",
      "/home/isultan/data/AlphaQ/core_catalog5/07_13_17.AlphaQ.253.coreproperties\n"
     ]
    },
    {
     "name": "stderr",
     "output_type": "stream",
     "text": [
      "\r",
      " 72%|███████▏  | 73/101 [00:03<00:03,  8.75it/s]"
     ]
    },
    {
     "name": "stdout",
     "output_type": "stream",
     "text": [
      "/home/isultan/data/AlphaQ/core_catalog5/07_13_17.AlphaQ.259.coreproperties\n",
      "/home/isultan/data/AlphaQ/core_catalog5/07_13_17.AlphaQ.266.coreproperties\n"
     ]
    },
    {
     "name": "stderr",
     "output_type": "stream",
     "text": [
      " 75%|███████▌  | 76/101 [00:03<00:03,  7.00it/s]"
     ]
    },
    {
     "name": "stdout",
     "output_type": "stream",
     "text": [
      "/home/isultan/data/AlphaQ/core_catalog5/07_13_17.AlphaQ.272.coreproperties\n",
      "/home/isultan/data/AlphaQ/core_catalog5/07_13_17.AlphaQ.279.coreproperties\n"
     ]
    },
    {
     "name": "stderr",
     "output_type": "stream",
     "text": [
      " 77%|███████▋  | 78/101 [00:03<00:03,  6.07it/s]"
     ]
    },
    {
     "name": "stdout",
     "output_type": "stream",
     "text": [
      "/home/isultan/data/AlphaQ/core_catalog5/07_13_17.AlphaQ.286.coreproperties\n",
      "/home/isultan/data/AlphaQ/core_catalog5/07_13_17.AlphaQ.293.coreproperties\n"
     ]
    },
    {
     "name": "stderr",
     "output_type": "stream",
     "text": [
      "\r",
      " 78%|███████▊  | 79/101 [00:04<00:03,  5.78it/s]"
     ]
    },
    {
     "name": "stdout",
     "output_type": "stream",
     "text": [
      "/home/isultan/data/AlphaQ/core_catalog5/07_13_17.AlphaQ.300.coreproperties\n"
     ]
    },
    {
     "name": "stderr",
     "output_type": "stream",
     "text": [
      "\r",
      " 79%|███████▉  | 80/101 [00:04<00:03,  5.46it/s]"
     ]
    },
    {
     "name": "stdout",
     "output_type": "stream",
     "text": [
      "/home/isultan/data/AlphaQ/core_catalog5/07_13_17.AlphaQ.307.coreproperties\n"
     ]
    },
    {
     "name": "stderr",
     "output_type": "stream",
     "text": [
      "\r",
      " 80%|████████  | 81/101 [00:04<00:03,  5.28it/s]"
     ]
    },
    {
     "name": "stdout",
     "output_type": "stream",
     "text": [
      "/home/isultan/data/AlphaQ/core_catalog5/07_13_17.AlphaQ.315.coreproperties\n"
     ]
    },
    {
     "name": "stderr",
     "output_type": "stream",
     "text": [
      "\r",
      " 81%|████████  | 82/101 [00:04<00:03,  5.09it/s]"
     ]
    },
    {
     "name": "stdout",
     "output_type": "stream",
     "text": [
      "/home/isultan/data/AlphaQ/core_catalog5/07_13_17.AlphaQ.323.coreproperties\n"
     ]
    },
    {
     "name": "stderr",
     "output_type": "stream",
     "text": [
      "\r",
      " 82%|████████▏ | 83/101 [00:04<00:03,  4.84it/s]"
     ]
    },
    {
     "name": "stdout",
     "output_type": "stream",
     "text": [
      "/home/isultan/data/AlphaQ/core_catalog5/07_13_17.AlphaQ.331.coreproperties\n"
     ]
    },
    {
     "name": "stderr",
     "output_type": "stream",
     "text": [
      "\r",
      " 83%|████████▎ | 84/101 [00:05<00:03,  4.70it/s]"
     ]
    },
    {
     "name": "stdout",
     "output_type": "stream",
     "text": [
      "/home/isultan/data/AlphaQ/core_catalog5/07_13_17.AlphaQ.338.coreproperties\n"
     ]
    },
    {
     "name": "stderr",
     "output_type": "stream",
     "text": [
      "\r",
      " 84%|████████▍ | 85/101 [00:05<00:03,  4.56it/s]"
     ]
    },
    {
     "name": "stdout",
     "output_type": "stream",
     "text": [
      "/home/isultan/data/AlphaQ/core_catalog5/07_13_17.AlphaQ.347.coreproperties\n"
     ]
    },
    {
     "name": "stderr",
     "output_type": "stream",
     "text": [
      "\r",
      " 85%|████████▌ | 86/101 [00:05<00:03,  4.36it/s]"
     ]
    },
    {
     "name": "stdout",
     "output_type": "stream",
     "text": [
      "/home/isultan/data/AlphaQ/core_catalog5/07_13_17.AlphaQ.355.coreproperties\n"
     ]
    },
    {
     "name": "stderr",
     "output_type": "stream",
     "text": [
      "\r",
      " 86%|████████▌ | 87/101 [00:05<00:03,  4.27it/s]"
     ]
    },
    {
     "name": "stdout",
     "output_type": "stream",
     "text": [
      "/home/isultan/data/AlphaQ/core_catalog5/07_13_17.AlphaQ.365.coreproperties\n"
     ]
    },
    {
     "name": "stderr",
     "output_type": "stream",
     "text": [
      "\r",
      " 87%|████████▋ | 88/101 [00:06<00:03,  4.16it/s]"
     ]
    },
    {
     "name": "stdout",
     "output_type": "stream",
     "text": [
      "/home/isultan/data/AlphaQ/core_catalog5/07_13_17.AlphaQ.373.coreproperties\n"
     ]
    },
    {
     "name": "stderr",
     "output_type": "stream",
     "text": [
      "\r",
      " 88%|████████▊ | 89/101 [00:06<00:03,  3.98it/s]"
     ]
    },
    {
     "name": "stdout",
     "output_type": "stream",
     "text": [
      "/home/isultan/data/AlphaQ/core_catalog5/07_13_17.AlphaQ.382.coreproperties\n"
     ]
    },
    {
     "name": "stderr",
     "output_type": "stream",
     "text": [
      "\r",
      " 89%|████████▉ | 90/101 [00:06<00:02,  3.90it/s]"
     ]
    },
    {
     "name": "stdout",
     "output_type": "stream",
     "text": [
      "/home/isultan/data/AlphaQ/core_catalog5/07_13_17.AlphaQ.392.coreproperties\n"
     ]
    },
    {
     "name": "stderr",
     "output_type": "stream",
     "text": [
      "\r",
      " 90%|█████████ | 91/101 [00:07<00:02,  3.80it/s]"
     ]
    },
    {
     "name": "stdout",
     "output_type": "stream",
     "text": [
      "/home/isultan/data/AlphaQ/core_catalog5/07_13_17.AlphaQ.401.coreproperties\n"
     ]
    },
    {
     "name": "stderr",
     "output_type": "stream",
     "text": [
      "\r",
      " 91%|█████████ | 92/101 [00:07<00:02,  3.64it/s]"
     ]
    },
    {
     "name": "stdout",
     "output_type": "stream",
     "text": [
      "/home/isultan/data/AlphaQ/core_catalog5/07_13_17.AlphaQ.411.coreproperties\n"
     ]
    },
    {
     "name": "stderr",
     "output_type": "stream",
     "text": [
      "\r",
      " 92%|█████████▏| 93/101 [00:07<00:02,  3.57it/s]"
     ]
    },
    {
     "name": "stdout",
     "output_type": "stream",
     "text": [
      "/home/isultan/data/AlphaQ/core_catalog5/07_13_17.AlphaQ.421.coreproperties\n"
     ]
    },
    {
     "name": "stderr",
     "output_type": "stream",
     "text": [
      "\r",
      " 93%|█████████▎| 94/101 [00:07<00:02,  3.49it/s]"
     ]
    },
    {
     "name": "stdout",
     "output_type": "stream",
     "text": [
      "/home/isultan/data/AlphaQ/core_catalog5/07_13_17.AlphaQ.432.coreproperties\n"
     ]
    },
    {
     "name": "stderr",
     "output_type": "stream",
     "text": [
      "\r",
      " 94%|█████████▍| 95/101 [00:08<00:01,  3.35it/s]"
     ]
    },
    {
     "name": "stdout",
     "output_type": "stream",
     "text": [
      "/home/isultan/data/AlphaQ/core_catalog5/07_13_17.AlphaQ.442.coreproperties\n"
     ]
    },
    {
     "name": "stderr",
     "output_type": "stream",
     "text": [
      "\r",
      " 95%|█████████▌| 96/101 [00:08<00:01,  3.29it/s]"
     ]
    },
    {
     "name": "stdout",
     "output_type": "stream",
     "text": [
      "/home/isultan/data/AlphaQ/core_catalog5/07_13_17.AlphaQ.453.coreproperties\n"
     ]
    },
    {
     "name": "stderr",
     "output_type": "stream",
     "text": [
      "\r",
      " 96%|█████████▌| 97/101 [00:08<00:01,  3.22it/s]"
     ]
    },
    {
     "name": "stdout",
     "output_type": "stream",
     "text": [
      "/home/isultan/data/AlphaQ/core_catalog5/07_13_17.AlphaQ.464.coreproperties\n"
     ]
    },
    {
     "name": "stderr",
     "output_type": "stream",
     "text": [
      "\r",
      " 97%|█████████▋| 98/101 [00:09<00:00,  3.10it/s]"
     ]
    },
    {
     "name": "stdout",
     "output_type": "stream",
     "text": [
      "/home/isultan/data/AlphaQ/core_catalog5/07_13_17.AlphaQ.475.coreproperties\n"
     ]
    },
    {
     "name": "stderr",
     "output_type": "stream",
     "text": [
      "\r",
      " 98%|█████████▊| 99/101 [00:09<00:00,  3.05it/s]"
     ]
    },
    {
     "name": "stdout",
     "output_type": "stream",
     "text": [
      "/home/isultan/data/AlphaQ/core_catalog5/07_13_17.AlphaQ.487.coreproperties\n"
     ]
    },
    {
     "name": "stderr",
     "output_type": "stream",
     "text": [
      "\r",
      " 99%|█████████▉| 100/101 [00:09<00:00,  2.99it/s]"
     ]
    },
    {
     "name": "stdout",
     "output_type": "stream",
     "text": [
      "/home/isultan/data/AlphaQ/core_catalog5/07_13_17.AlphaQ.499.coreproperties\n"
     ]
    },
    {
     "name": "stderr",
     "output_type": "stream",
     "text": [
      "100%|██████████| 101/101 [00:10<00:00,  9.82it/s]\n"
     ]
    }
   ],
   "source": [
    "# load all time core data\n",
    "data_arr = np.array([])\n",
    "for fname in tqdm(fnames):\n",
    "    print(fname)\n",
    "    fof_halo_tag = genericio.gio_read(fname, 'fof_halo_tag')[0]\n",
    "    core_tag = genericio.gio_read(fname, 'core_tag')[0]\n",
    "    x = genericio.gio_read(fname, 'x')[0]\n",
    "    y = genericio.gio_read(fname, 'y')[0]\n",
    "    z = genericio.gio_read(fname, 'z')[0]\n",
    "    radius = genericio.gio_read(fname, 'radius')[0]\n",
    "    infall_mass = genericio.gio_read(fname, 'infall_mass')[0]\n",
    "    infall_step = genericio.gio_read(fname, 'infall_step')[0]\n",
    "    t = np.ones_like(fof_halo_tag)*int(fname.split('.')[2])\n",
    "    if int(fname.split('.')[2]) == 42: # if first time step\n",
    "        data_arr = np.vstack((t, fof_halo_tag, core_tag, x, y, z, radius, infall_mass, infall_step))\n",
    "    else:\n",
    "        data_arr = np.hstack( ( data_arr, np.vstack((t, fof_halo_tag, core_tag, x, y, z, radius, infall_mass, infall_step)) ) )\n",
    "data_arr = data_arr.T"
   ]
  },
  {
   "cell_type": "code",
   "execution_count": 15,
   "metadata": {},
   "outputs": [
    {
     "ename": "TypeError",
     "evalue": "'NoneType' object is not subscriptable",
     "output_type": "error",
     "traceback": [
      "\u001b[0;31m---------------------------------------------------------------------\u001b[0m",
      "\u001b[0;31mTypeError\u001b[0m                           Traceback (most recent call last)",
      "\u001b[0;32m<ipython-input-15-911a0398b245>\u001b[0m in \u001b[0;36m<module>\u001b[0;34m\u001b[0m\n\u001b[1;32m      1\u001b[0m \u001b[0mgenericio\u001b[0m\u001b[0;34m.\u001b[0m\u001b[0mgio_read\u001b[0m\u001b[0;34m(\u001b[0m\u001b[0;34m'/home/isultan/data/AlphaQ/core_catalog5/07_13_17.AlphaQ.499.coreproperties'\u001b[0m\u001b[0;34m,\u001b[0m \u001b[0;34m'tree_node_index'\u001b[0m\u001b[0;34m)\u001b[0m\u001b[0;34m[\u001b[0m\u001b[0;36m0\u001b[0m\u001b[0;34m]\u001b[0m\u001b[0;34m\u001b[0m\u001b[0;34m\u001b[0m\u001b[0m\n\u001b[0;32m----> 2\u001b[0;31m \u001b[0mgenericio\u001b[0m\u001b[0;34m.\u001b[0m\u001b[0mgio_inspect\u001b[0m\u001b[0;34m(\u001b[0m\u001b[0;34m'/home/isultan/data/AlphaQ/core_catalog5/07_13_17.AlphaQ.499.coreproperties'\u001b[0m\u001b[0;34m)\u001b[0m\u001b[0;34m[\u001b[0m\u001b[0;36m0\u001b[0m\u001b[0;34m]\u001b[0m\u001b[0;34m\u001b[0m\u001b[0;34m\u001b[0m\u001b[0m\n\u001b[0m",
      "\u001b[0;31mTypeError\u001b[0m: 'NoneType' object is not subscriptable"
     ]
    }
   ],
   "source": [
    "genericio.gio_read('/home/isultan/data/AlphaQ/core_catalog5/07_13_17.AlphaQ.499.coreproperties', 'tree_node_index')[0]\n",
    "genericio.gio_inspect('/home/isultan/data/AlphaQ/core_catalog5/07_13_17.AlphaQ.499.coreproperties')"
   ]
  },
  {
   "cell_type": "code",
   "execution_count": 52,
   "metadata": {},
   "outputs": [
    {
     "name": "stderr",
     "output_type": "stream",
     "text": [
      "100%|██████████| 101/101 [00:08<00:00, 12.50it/s]\n"
     ]
    }
   ],
   "source": [
    "# save all time core data for a 499 halo\n",
    "def core_data_generate(ID_halo, saveDir = '/home/isultan/projects/coretracing/coredata_v2/',  ): \n",
    "    saveDir += 'halotag_{}/'.format(ID_halo)\n",
    "    os.mkdir(saveDir)\n",
    "\n",
    "    ID_core_arr = data_arr[(data_arr[:,0]==499) & (data_arr[:,1]==ID_halo), 2]\n",
    "#     ID_core_dict = dict.fromkeys(ID_core_arr, np.array)\n",
    "    t_dict = {}\n",
    "    \n",
    "    # periodic boundary conditions cores mask\n",
    "    x_ref, y_ref, z_ref = data_arr[np.in1d(data_arr[:,2], ID_core_arr), 3:6][0]\n",
    "    \n",
    "    for t in tqdm(timesteps):\n",
    "        points_arr = data_arr[(data_arr[:,0]==t) & np.in1d(data_arr[:,2], ID_core_arr), 2:]\n",
    "        points_arr[:,1] += 256*((points_arr[:,1]-x_ref)<-128) + -256*((points_arr[:,1]-x_ref)>128)\n",
    "        points_arr[:,2] += 256*((points_arr[:,2]-y_ref)<-128) + -256*((points_arr[:,2]-y_ref)>128)\n",
    "        points_arr[:,3] += 256*((points_arr[:,3]-z_ref)<-128) + -256*((points_arr[:,3]-z_ref)>128)\n",
    "        \n",
    "        if points_arr.shape[0] == 0:\n",
    "            continue\n",
    "        np.savetxt(saveDir+\"tstep_{}.csv\".format(str(t).zfill(3)), points_arr, delimiter=\",\", comments='', header='idcore,x,y,z,radius,infall_mass,infall_step')\n",
    "#         t_dict[t] = points_arr\n",
    "    \n",
    "#     return t_dict\n",
    "\n",
    "# haloIDsgen = [7346795, 698082, 19534589, 762035800]\n",
    "# for haloIDgen in haloIDsgen:\n",
    "#     core_data_generate(haloIDgen)\n",
    "# core_data_generate(16161646)"
   ]
  },
  {
   "cell_type": "code",
   "execution_count": 9,
   "metadata": {},
   "outputs": [
    {
     "name": "stderr",
     "output_type": "stream",
     "text": [
      "100%|██████████| 101/101 [06:00<00:00,  3.54s/it]\n"
     ]
    }
   ],
   "source": [
    "# generate \"merger tree\" for a 499 halo\n",
    "# satellites_persist makes satellite cores persist in future timesteps with position \"frozen\" to where they merged\n",
    "def mergertree_generate(ID_halo, saveDir = '/home/isultan/projects/coretracing/coredata_mergertree/',  satellites_persist=False): \n",
    "    saveDir += 'halotag_{}/'.format(ID_halo)\n",
    "    os.mkdir(saveDir)\n",
    "\n",
    "    ID_core_arr = data_arr[(data_arr[:,0]==499) & (data_arr[:,1]==ID_halo), 2]\n",
    "    \n",
    "    ID_core_dict = {}\n",
    "    \n",
    "    # periodic boundary conditions cores mask\n",
    "    x_ref, y_ref, z_ref = data_arr[np.in1d(data_arr[:,2], ID_core_arr), 3:6][0]\n",
    "    \n",
    "    for t in tqdm(timesteps):\n",
    "        points_arr = data_arr[(data_arr[:,0]==t) & np.in1d(data_arr[:,2], ID_core_arr) & (data_arr[:,-1]==t), 2:]\n",
    "        points_arr[:,1] += 256*((points_arr[:,1]-x_ref)<-128) + -256*((points_arr[:,1]-x_ref)>128)\n",
    "        points_arr[:,2] += 256*((points_arr[:,2]-y_ref)<-128) + -256*((points_arr[:,2]-y_ref)>128)\n",
    "        points_arr[:,3] += 256*((points_arr[:,3]-z_ref)<-128) + -256*((points_arr[:,3]-z_ref)>128)\n",
    "        \n",
    "        if satellites_persist:\n",
    "            for row in points_arr:\n",
    "                ID_core_dict[row[0]] = row\n",
    "            \n",
    "            for cid in data_arr[(data_arr[:,0]==t) & np.in1d(data_arr[:,2], ID_core_arr) & (data_arr[:,-1]<t), 2]:\n",
    "                points_arr = np.vstack( (points_arr, ID_core_dict[cid]) )\n",
    "        \n",
    "        if points_arr.shape[0] == 0:\n",
    "            continue\n",
    "        np.savetxt(saveDir+\"tstep_{}.csv\".format(str(t).zfill(3)), points_arr, delimiter=\",\", comments='', header='idcore,x,y,z,radius,infall_mass,infall_step')\n",
    "\n",
    "# mergertree_generate(762035800, saveDir = '/home/isultan/projects/coretracing/coredata_mergertree_persist/', satellites_persist=True)\n",
    "# mergertree_generate(698082)\n",
    "# mergertree_generate(698082, saveDir = '/home/isultan/projects/coretracing/coredata_mergertree_persist/', satellites_persist=True)\n",
    "\n",
    "# mergertree_generate(7346795)\n",
    "# mergertree_generate(7346795, saveDir = '/home/isultan/projects/coretracing/coredata_mergertree_persist/', satellites_persist=True)\n",
    "\n",
    "mergertree_generate(19534589, saveDir = '/home/isultan/projects/coretracing/coredata_mergertree_persist/', satellites_persist=True)"
   ]
  },
  {
   "cell_type": "code",
   "execution_count": 53,
   "metadata": {},
   "outputs": [
    {
     "name": "stderr",
     "output_type": "stream",
     "text": [
      "/home/isultan/.local/lib/python2.7/site-packages/ipykernel_launcher.py:2: DeprecationWarning: the sets module is deprecated\n",
      "  \n",
      "100%|██████████| 101/101 [00:08<00:00, 12.42it/s]\n"
     ]
    }
   ],
   "source": [
    "# check that cores aren't getting \"lost\"\n",
    "from sets import Set\n",
    "ID_halo = 16161646\n",
    "ID_core_arr = data_arr[(data_arr[:,0]==499) & (data_arr[:,1]==ID_halo), 2]\n",
    "ID_core_set = Set([])\n",
    "for t in tqdm(timesteps):\n",
    "    points_arr = data_arr[(data_arr[:,0]==t) & np.in1d(data_arr[:,2], ID_core_arr)]\n",
    "    if points_arr.shape[0] == 0:\n",
    "        continue\n",
    "    for cid in ID_core_set:\n",
    "        if cid not in points_arr[:,2]:\n",
    "            print cid\n",
    "        assert cid in points_arr[:,2]\n",
    "    for cid in points_arr[:,2]:\n",
    "        ID_core_set.add(cid)\n",
    "    "
   ]
  },
  {
   "cell_type": "code",
   "execution_count": 1,
   "metadata": {},
   "outputs": [
    {
     "name": "stdout",
     "output_type": "stream",
     "text": [
      "\"z=\" + str([10.271, 10.023, 9.786, 9.559, 9.341, 8.932, 8.739, 8.553, 8.203, 8.037, 7.877, 7.573, 7.429, 7.155, 7.025, 6.776, 6.657, 6.43, 6.216, 6.114, 5.918, 5.732, 5.556, 5.389, 5.309, 5.154, 5.006, 4.798, 4.667, 4.542, 4.422, 4.307, 4.144, 4.04, 3.893, 3.799, 3.58, 3.458, 3.342, 3.232, 3.128, 3.061, 2.873, 2.757, 2.674, 2.595, 2.495, 2.423, 2.332, 2.267, 2.184, 2.105, 2.03, 1.959, 1.891, 1.81, 1.748, 1.689, 1.619, 1.552, 1.501, 1.44, 1.382, 1.327, 1.264, 1.214, 1.157, 1.112, 1.06, 1.01, 0.963, 0.918, 0.868, 0.827, 0.782, 0.738, 0.697, 0.658, 0.62, 0.58, 0.541, 0.504, 0.473, 0.435, 0.403, 0.365, 0.336, 0.304, 0.271, 0.243, 0.213, 0.184, 0.154, 0.128, 0.101, 0.075, 0.05, 0.025, 0.0][t_index])\n"
     ]
    }
   ],
   "source": [
    "timesteps=[42, 43, 44, 45, 46, 48, 49, 50, 52, 53, 54, 56, 57, 59, 60, 62, 63, 65, 67, 68, 70, 72, 74, 76, 77, 79, 81, 84, 86, 88, 90, 92, 95, 97, 100, 102, 107, 110, 113, 116, 119, 121, 127, 131, 134, 137, 141, 144, 148, 151, 155, 159, 163, 167, 171, 176, 180, 184, 189, 194, 198, 203, 208, 213, 219, 224, 230, 235, 241, 247, 253, 259, 266, 272, 279, 286, 293, 300, 307, 315, 323, 331, 338, 347, 355, 365, 373, 382, 392, 401, 411, 421, 432, 442, 453, 464, 475, 487, 499]\n",
    "# generate redshifts list for time steps\n",
    "from cosmo import StepZ\n",
    "stepz = StepZ(sim_name='AlphaQ')\n",
    "zsteps = [round(stepz.get_z(i),3) for i in timesteps if i >= 42]\n",
    "print '\"z=\" + str({}[t_index])'.format(zsteps)"
   ]
  },
  {
   "cell_type": "code",
   "execution_count": 59,
   "metadata": {},
   "outputs": [],
   "source": [
    "# get downsampled AlphaQ particles at z=0\n",
    "x = genericio.gio_read('/home/isultan/data/AlphaQ/Particles_/STEP499/m000.mpicosmo.499', 'x')[0]\n",
    "y = genericio.gio_read('/home/isultan/data/AlphaQ/Particles_/STEP499/m000.mpicosmo.499', 'y')[0]\n",
    "z = genericio.gio_read('/home/isultan/data/AlphaQ/Particles_/STEP499/m000.mpicosmo.499', 'z')[0]\n"
   ]
  },
  {
   "cell_type": "code",
   "execution_count": 60,
   "metadata": {},
   "outputs": [
    {
     "data": {
      "text/plain": [
       "(10754270, 3)"
      ]
     },
     "execution_count": 60,
     "metadata": {},
     "output_type": "execute_result"
    }
   ],
   "source": [
    "parts_arr = np.vstack((x,y,z)).T\n",
    "parts_arr.shape"
   ]
  },
  {
   "cell_type": "code",
   "execution_count": 61,
   "metadata": {},
   "outputs": [],
   "source": [
    "# xbounds = (182, 205)\n",
    "# ybounds = (184, 210)\n",
    "# zbounds = (146, 174)\n",
    "# xbounds = (255, 263)\n",
    "# ybounds = (161, 170)\n",
    "# zbounds = (173, 182)\n",
    "\n",
    "xbounds = (3, 7)\n",
    "ybounds = (110, 114)\n",
    "zbounds = (209, 215)\n",
    "\n",
    "x_ref, y_ref, z_ref = xbounds[0], ybounds[0], zbounds[0]\n",
    "parts_arr[:,0] += 256*((parts_arr[:,0]-x_ref)<-128) + -256*((parts_arr[:,0]-x_ref)>128)\n",
    "parts_arr[:,1] += 256*((parts_arr[:,1]-y_ref)<-128) + -256*((parts_arr[:,1]-y_ref)>128)\n",
    "parts_arr[:,2] += 256*((parts_arr[:,2]-z_ref)<-128) + -256*((parts_arr[:,2]-z_ref)>128)\n",
    "parts_halo = parts_arr[ (parts_arr[:,0] > xbounds[0]) & (parts_arr[:,0] < xbounds[1]) & (parts_arr[:,1] > ybounds[0]) & (parts_arr[:,1] < ybounds[1]) & (parts_arr[:,2] > zbounds[0]) & (parts_arr[:,2] < zbounds[1]), :]\n"
   ]
  },
  {
   "cell_type": "code",
   "execution_count": 62,
   "metadata": {},
   "outputs": [
    {
     "data": {
      "text/plain": [
       "(114, 3)"
      ]
     },
     "execution_count": 62,
     "metadata": {},
     "output_type": "execute_result"
    }
   ],
   "source": [
    "parts_halo.shape"
   ]
  },
  {
   "cell_type": "code",
   "execution_count": 63,
   "metadata": {},
   "outputs": [],
   "source": [
    "np.savetxt('/home/isultan/projects/coretracing/partshalo3.csv', parts_halo, delimiter=\",\", comments='', header='x,y,z')"
   ]
  }
 ],
 "metadata": {
  "kernelspec": {
   "display_name": "Python 3",
   "language": "python",
   "name": "python3"
  },
  "language_info": {
   "codemirror_mode": {
    "name": "ipython",
    "version": 3
   },
   "file_extension": ".py",
   "mimetype": "text/x-python",
   "name": "python",
   "nbconvert_exporter": "python",
   "pygments_lexer": "ipython3",
   "version": "3.7.3"
  }
 },
 "nbformat": 4,
 "nbformat_minor": 2
}
